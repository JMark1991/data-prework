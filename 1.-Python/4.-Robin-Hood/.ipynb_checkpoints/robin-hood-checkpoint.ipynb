{
 "cells": [
  {
   "cell_type": "markdown",
   "metadata": {},
   "source": [
    "<img src=\"https://bit.ly/2VnXWr2\" width=\"100\" align=\"left\"/>"
   ]
  },
  {
   "cell_type": "markdown",
   "metadata": {},
   "source": [
    "# Robin Hood\n",
    "Robin Hood has entered a competition to win the archery contest in Sherwood. With his bow and arrows, he needs to shoot on a target and try to hit as close as possible to the center.\n",
    "\n",
    "![](images/arrows.jpg)\n",
    "\n",
    "## Context\n",
    "In this challenge, the landing position of arrows shot by archers in the competition will be represented using 2-dimensional coordinates. \n",
    "\n",
    "In the 2-dimensional space, a point can be defined by a pair of values that correspond to the horizontal coordinate (x) and the vertical coordinate (y). For example, in our case, an arrow that hits the center of the archery target will land in position (0, 0) on the coordinate axes. \n",
    "\n",
    "The space can be divided into 4 zones (quadrants): Q1, Q2, Q3, Q4. If a point is in Q1, both its x coordinate and y coordinate are positive. Any point with a null x or y coordinate is considered to not belong to any quadrant. \n",
    "\n",
    "If you want to know more about the cartesian coordinate system, you can check this [link](https://en.wikipedia.org/wiki/Cartesian_coordinate_system). \n",
    "\n",
    "## Tools\n",
    "You don't necessarily need to use all the tools. Maybe you opt to use some of them or completely different ones, they are given to help you shape the exercise. Programming exercises can be solved in many different ways.\n",
    "* Data structures: **lists, sets, tuples**\n",
    "* Conditional statements: **if-elif-else**\n",
    "* Loop: **while/for**\n",
    "* Minimum (optional sorting)\n",
    "\n",
    "## Tasks\n",
    "Robin Hood has hit the following points:"
   ]
  },
  {
   "cell_type": "code",
   "execution_count": 1,
   "metadata": {},
   "outputs": [],
   "source": [
    "points = [(4, 5), (-0, 2), (4, 7), (1, -3), (3, -2), (4, 5), (3, 2), (5, 7), (-5, 7), (2, 2), (-4, 5), (0, -2),\n",
    "          (-4, 7), (-1, 3), (-3, 2), (-4, -5), (-3, 2), (5, 7), (5, 7), (2, 2), (9, 9), (-8, -9)]"
   ]
  },
  {
   "cell_type": "markdown",
   "metadata": {},
   "source": [
    "#### 1. Robin Hood is famous for hitting an arrow with another arrow. Find the coordinates of the points where an arrow hits another arrow."
   ]
  },
  {
   "cell_type": "code",
   "execution_count": 2,
   "metadata": {},
   "outputs": [
    {
     "name": "stdout",
     "output_type": "stream",
     "text": [
      "(4, 5)\n",
      "(5, 7)\n",
      "(-3, 2)\n",
      "(2, 2)\n"
     ]
    }
   ],
   "source": [
    "unique_points = set(points)\n",
    "\n",
    "for i in unique_points:\n",
    "    position = points.index(i)\n",
    "    if position < len(points):\n",
    "        if i in points[position+1:]:\n",
    "            print (points[position])"
   ]
  },
  {
   "cell_type": "markdown",
   "metadata": {},
   "source": [
    "#### 2. Calculate how many arrows have fallen in each quadrant. \n",
    "**Note**: the arrows that fall in the axis (x=0 or y=0) don't belong to any quadrant."
   ]
  },
  {
   "cell_type": "code",
   "execution_count": 3,
   "metadata": {},
   "outputs": [
    {
     "name": "stdout",
     "output_type": "stream",
     "text": [
      "Quadrant 1: 10 \n",
      "Quadrant 2: 6 \n",
      "Quadrant 3: 2 \n",
      "Quadrant 4: 2 \n"
     ]
    }
   ],
   "source": [
    "Q1 = 0\n",
    "Q2 = 0\n",
    "Q3 = 0\n",
    "Q4 = 0\n",
    "center = 0\n",
    "\n",
    "for arrow in points:\n",
    "    if arrow[0] == 0 and arrow[1] == 0:\n",
    "        center += 1\n",
    "    elif arrow[0] > 0 and arrow[1] > 0:\n",
    "        Q1 += 1\n",
    "    elif arrow[0] < 0 and arrow[1] > 0:\n",
    "        Q2 += 1\n",
    "    elif arrow[0] < 0 and arrow[1] < 0:\n",
    "        Q3 += 1\n",
    "    elif arrow[0] > 0 and arrow[1] < 0:\n",
    "        Q4 += 1\n",
    "\n",
    "print (\"Quadrant 1: %d \\nQuadrant 2: %d \\nQuadrant 3: %d \\nQuadrant 4: %d \" % (Q1,Q2,Q3,Q4))\n",
    "#print (\"Center: %d\" % center)"
   ]
  },
  {
   "cell_type": "markdown",
   "metadata": {},
   "source": [
    "#### 3. Find the point closest to the center. Calculate its distance to the center. \n",
    "Take into account that there might be more than one point at the minimum distance to the center.\n",
    "\n",
    "**Hint**: Use the Euclidean distance. You can find more information about it [here](https://en.wikipedia.org/wiki/Euclidean_distance).  \n",
    "**Hint**: Defining a function that calculates the distance to the center can help."
   ]
  },
  {
   "cell_type": "code",
   "execution_count": 4,
   "metadata": {},
   "outputs": [
    {
     "name": "stdout",
     "output_type": "stream",
     "text": [
      "The closests points [(0, -2), (0, 2)] are 2.00 away from the center.\n"
     ]
    }
   ],
   "source": [
    "def distance(point):\n",
    "    return ((point[0] ** 2 + point[1] ** 2) ** (1/2))\n",
    "\n",
    "distances = {}\n",
    "min_dist = 100000\n",
    "closest_points = []\n",
    "\n",
    "for point in unique_points:\n",
    "    dist = distance(point)\n",
    "    distances[point] = dist\n",
    "    if dist < min_dist:\n",
    "        closest_points = [point]\n",
    "        min_dist = dist\n",
    "    elif dist == min_dist:\n",
    "        closest_points.append(point)\n",
    "\n",
    "if len(closest_points) > 1:\n",
    "    print (\"The closests points %s are %.2f away from the center.\" % (closest_points, min_dist))\n",
    "else:\n",
    "    print (\"The closest point %s is %.2f away from the center.\" % (closest_points[0], min_dist))"
   ]
  },
  {
   "cell_type": "markdown",
   "metadata": {},
   "source": [
    "#### 4. If the archery target has a radius of 9, calculate the number of arrows that won't hit the target. \n",
    "**Hint**: Use the function created in step 3. "
   ]
  },
  {
   "cell_type": "code",
   "execution_count": 5,
   "metadata": {},
   "outputs": [
    {
     "name": "stdout",
     "output_type": "stream",
     "text": [
      "2 arrows didn't hit the target!\n"
     ]
    }
   ],
   "source": [
    "target_radius = 9\n",
    "fails = 0\n",
    "\n",
    "for point in distances:\n",
    "    if (distances[point]) > target_radius:\n",
    "        fails += 1\n",
    "        \n",
    "#print(\"%d arrows didn't hit the target!%s\" % (fails, \" Congratulations!\" if fails == 0 else \"\"))\n",
    "print(\"%d arrows didn't hit the target!\" % fails)"
   ]
  },
  {
   "cell_type": "code",
   "execution_count": null,
   "metadata": {},
   "outputs": [],
   "source": []
  }
 ],
 "metadata": {
  "kernelspec": {
   "display_name": "Python 3",
   "language": "python",
   "name": "python3"
  },
  "language_info": {
   "codemirror_mode": {
    "name": "ipython",
    "version": 3
   },
   "file_extension": ".py",
   "mimetype": "text/x-python",
   "name": "python",
   "nbconvert_exporter": "python",
   "pygments_lexer": "ipython3",
   "version": "3.7.4"
  }
 },
 "nbformat": 4,
 "nbformat_minor": 2
}
